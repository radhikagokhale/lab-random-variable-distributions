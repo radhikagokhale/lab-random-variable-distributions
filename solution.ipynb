{
 "cells": [
  {
   "cell_type": "code",
   "execution_count": 1,
   "id": "32f992e2",
   "metadata": {},
   "outputs": [],
   "source": [
    "import pandas as pd\n",
    "import numpy as np\n",
    "import matplotlib.pyplot as plt\n",
    "import seaborn as sns\n",
    "import scipy.stats as stats\n",
    "import os\n",
    "\n",
    "from sklearn.preprocessing import MinMaxScaler\n",
    "from sklearn.model_selection import train_test_split\n",
    "from sklearn.linear_model import LinearRegression\n",
    "from sklearn.metrics import r2_score, mean_squared_error, mean_absolute_error"
   ]
  },
  {
   "cell_type": "code",
   "execution_count": 2,
   "id": "4978656f",
   "metadata": {},
   "outputs": [],
   "source": [
    "#Load the file into a variable\n",
    "data = pd.read_csv(r\"./files_for_lab/we_fn_use_c_marketing_customer_value_analysis.csv\")"
   ]
  },
  {
   "cell_type": "code",
   "execution_count": 3,
   "id": "50ce68cd",
   "metadata": {},
   "outputs": [
    {
     "data": {
      "text/html": [
       "<div>\n",
       "<style scoped>\n",
       "    .dataframe tbody tr th:only-of-type {\n",
       "        vertical-align: middle;\n",
       "    }\n",
       "\n",
       "    .dataframe tbody tr th {\n",
       "        vertical-align: top;\n",
       "    }\n",
       "\n",
       "    .dataframe thead th {\n",
       "        text-align: right;\n",
       "    }\n",
       "</style>\n",
       "<table border=\"1\" class=\"dataframe\">\n",
       "  <thead>\n",
       "    <tr style=\"text-align: right;\">\n",
       "      <th></th>\n",
       "      <th>Customer</th>\n",
       "      <th>State</th>\n",
       "      <th>Customer Lifetime Value</th>\n",
       "      <th>Response</th>\n",
       "      <th>Coverage</th>\n",
       "      <th>Education</th>\n",
       "      <th>Effective To Date</th>\n",
       "      <th>EmploymentStatus</th>\n",
       "      <th>Gender</th>\n",
       "      <th>Income</th>\n",
       "      <th>...</th>\n",
       "      <th>Months Since Policy Inception</th>\n",
       "      <th>Number of Open Complaints</th>\n",
       "      <th>Number of Policies</th>\n",
       "      <th>Policy Type</th>\n",
       "      <th>Policy</th>\n",
       "      <th>Renew Offer Type</th>\n",
       "      <th>Sales Channel</th>\n",
       "      <th>Total Claim Amount</th>\n",
       "      <th>Vehicle Class</th>\n",
       "      <th>Vehicle Size</th>\n",
       "    </tr>\n",
       "  </thead>\n",
       "  <tbody>\n",
       "    <tr>\n",
       "      <th>0</th>\n",
       "      <td>BU79786</td>\n",
       "      <td>Washington</td>\n",
       "      <td>2763.519279</td>\n",
       "      <td>No</td>\n",
       "      <td>Basic</td>\n",
       "      <td>Bachelor</td>\n",
       "      <td>2/24/11</td>\n",
       "      <td>Employed</td>\n",
       "      <td>F</td>\n",
       "      <td>56274</td>\n",
       "      <td>...</td>\n",
       "      <td>5</td>\n",
       "      <td>0</td>\n",
       "      <td>1</td>\n",
       "      <td>Corporate Auto</td>\n",
       "      <td>Corporate L3</td>\n",
       "      <td>Offer1</td>\n",
       "      <td>Agent</td>\n",
       "      <td>384.811147</td>\n",
       "      <td>Two-Door Car</td>\n",
       "      <td>Medsize</td>\n",
       "    </tr>\n",
       "    <tr>\n",
       "      <th>1</th>\n",
       "      <td>QZ44356</td>\n",
       "      <td>Arizona</td>\n",
       "      <td>6979.535903</td>\n",
       "      <td>No</td>\n",
       "      <td>Extended</td>\n",
       "      <td>Bachelor</td>\n",
       "      <td>1/31/11</td>\n",
       "      <td>Unemployed</td>\n",
       "      <td>F</td>\n",
       "      <td>0</td>\n",
       "      <td>...</td>\n",
       "      <td>42</td>\n",
       "      <td>0</td>\n",
       "      <td>8</td>\n",
       "      <td>Personal Auto</td>\n",
       "      <td>Personal L3</td>\n",
       "      <td>Offer3</td>\n",
       "      <td>Agent</td>\n",
       "      <td>1131.464935</td>\n",
       "      <td>Four-Door Car</td>\n",
       "      <td>Medsize</td>\n",
       "    </tr>\n",
       "    <tr>\n",
       "      <th>2</th>\n",
       "      <td>AI49188</td>\n",
       "      <td>Nevada</td>\n",
       "      <td>12887.431650</td>\n",
       "      <td>No</td>\n",
       "      <td>Premium</td>\n",
       "      <td>Bachelor</td>\n",
       "      <td>2/19/11</td>\n",
       "      <td>Employed</td>\n",
       "      <td>F</td>\n",
       "      <td>48767</td>\n",
       "      <td>...</td>\n",
       "      <td>38</td>\n",
       "      <td>0</td>\n",
       "      <td>2</td>\n",
       "      <td>Personal Auto</td>\n",
       "      <td>Personal L3</td>\n",
       "      <td>Offer1</td>\n",
       "      <td>Agent</td>\n",
       "      <td>566.472247</td>\n",
       "      <td>Two-Door Car</td>\n",
       "      <td>Medsize</td>\n",
       "    </tr>\n",
       "    <tr>\n",
       "      <th>3</th>\n",
       "      <td>WW63253</td>\n",
       "      <td>California</td>\n",
       "      <td>7645.861827</td>\n",
       "      <td>No</td>\n",
       "      <td>Basic</td>\n",
       "      <td>Bachelor</td>\n",
       "      <td>1/20/11</td>\n",
       "      <td>Unemployed</td>\n",
       "      <td>M</td>\n",
       "      <td>0</td>\n",
       "      <td>...</td>\n",
       "      <td>65</td>\n",
       "      <td>0</td>\n",
       "      <td>7</td>\n",
       "      <td>Corporate Auto</td>\n",
       "      <td>Corporate L2</td>\n",
       "      <td>Offer1</td>\n",
       "      <td>Call Center</td>\n",
       "      <td>529.881344</td>\n",
       "      <td>SUV</td>\n",
       "      <td>Medsize</td>\n",
       "    </tr>\n",
       "    <tr>\n",
       "      <th>4</th>\n",
       "      <td>HB64268</td>\n",
       "      <td>Washington</td>\n",
       "      <td>2813.692575</td>\n",
       "      <td>No</td>\n",
       "      <td>Basic</td>\n",
       "      <td>Bachelor</td>\n",
       "      <td>2/3/11</td>\n",
       "      <td>Employed</td>\n",
       "      <td>M</td>\n",
       "      <td>43836</td>\n",
       "      <td>...</td>\n",
       "      <td>44</td>\n",
       "      <td>0</td>\n",
       "      <td>1</td>\n",
       "      <td>Personal Auto</td>\n",
       "      <td>Personal L1</td>\n",
       "      <td>Offer1</td>\n",
       "      <td>Agent</td>\n",
       "      <td>138.130879</td>\n",
       "      <td>Four-Door Car</td>\n",
       "      <td>Medsize</td>\n",
       "    </tr>\n",
       "    <tr>\n",
       "      <th>...</th>\n",
       "      <td>...</td>\n",
       "      <td>...</td>\n",
       "      <td>...</td>\n",
       "      <td>...</td>\n",
       "      <td>...</td>\n",
       "      <td>...</td>\n",
       "      <td>...</td>\n",
       "      <td>...</td>\n",
       "      <td>...</td>\n",
       "      <td>...</td>\n",
       "      <td>...</td>\n",
       "      <td>...</td>\n",
       "      <td>...</td>\n",
       "      <td>...</td>\n",
       "      <td>...</td>\n",
       "      <td>...</td>\n",
       "      <td>...</td>\n",
       "      <td>...</td>\n",
       "      <td>...</td>\n",
       "      <td>...</td>\n",
       "      <td>...</td>\n",
       "    </tr>\n",
       "    <tr>\n",
       "      <th>9129</th>\n",
       "      <td>LA72316</td>\n",
       "      <td>California</td>\n",
       "      <td>23405.987980</td>\n",
       "      <td>No</td>\n",
       "      <td>Basic</td>\n",
       "      <td>Bachelor</td>\n",
       "      <td>2/10/11</td>\n",
       "      <td>Employed</td>\n",
       "      <td>M</td>\n",
       "      <td>71941</td>\n",
       "      <td>...</td>\n",
       "      <td>89</td>\n",
       "      <td>0</td>\n",
       "      <td>2</td>\n",
       "      <td>Personal Auto</td>\n",
       "      <td>Personal L1</td>\n",
       "      <td>Offer2</td>\n",
       "      <td>Web</td>\n",
       "      <td>198.234764</td>\n",
       "      <td>Four-Door Car</td>\n",
       "      <td>Medsize</td>\n",
       "    </tr>\n",
       "    <tr>\n",
       "      <th>9130</th>\n",
       "      <td>PK87824</td>\n",
       "      <td>California</td>\n",
       "      <td>3096.511217</td>\n",
       "      <td>Yes</td>\n",
       "      <td>Extended</td>\n",
       "      <td>College</td>\n",
       "      <td>2/12/11</td>\n",
       "      <td>Employed</td>\n",
       "      <td>F</td>\n",
       "      <td>21604</td>\n",
       "      <td>...</td>\n",
       "      <td>28</td>\n",
       "      <td>0</td>\n",
       "      <td>1</td>\n",
       "      <td>Corporate Auto</td>\n",
       "      <td>Corporate L3</td>\n",
       "      <td>Offer1</td>\n",
       "      <td>Branch</td>\n",
       "      <td>379.200000</td>\n",
       "      <td>Four-Door Car</td>\n",
       "      <td>Medsize</td>\n",
       "    </tr>\n",
       "    <tr>\n",
       "      <th>9131</th>\n",
       "      <td>TD14365</td>\n",
       "      <td>California</td>\n",
       "      <td>8163.890428</td>\n",
       "      <td>No</td>\n",
       "      <td>Extended</td>\n",
       "      <td>Bachelor</td>\n",
       "      <td>2/6/11</td>\n",
       "      <td>Unemployed</td>\n",
       "      <td>M</td>\n",
       "      <td>0</td>\n",
       "      <td>...</td>\n",
       "      <td>37</td>\n",
       "      <td>3</td>\n",
       "      <td>2</td>\n",
       "      <td>Corporate Auto</td>\n",
       "      <td>Corporate L2</td>\n",
       "      <td>Offer1</td>\n",
       "      <td>Branch</td>\n",
       "      <td>790.784983</td>\n",
       "      <td>Four-Door Car</td>\n",
       "      <td>Medsize</td>\n",
       "    </tr>\n",
       "    <tr>\n",
       "      <th>9132</th>\n",
       "      <td>UP19263</td>\n",
       "      <td>California</td>\n",
       "      <td>7524.442436</td>\n",
       "      <td>No</td>\n",
       "      <td>Extended</td>\n",
       "      <td>College</td>\n",
       "      <td>2/3/11</td>\n",
       "      <td>Employed</td>\n",
       "      <td>M</td>\n",
       "      <td>21941</td>\n",
       "      <td>...</td>\n",
       "      <td>3</td>\n",
       "      <td>0</td>\n",
       "      <td>3</td>\n",
       "      <td>Personal Auto</td>\n",
       "      <td>Personal L2</td>\n",
       "      <td>Offer3</td>\n",
       "      <td>Branch</td>\n",
       "      <td>691.200000</td>\n",
       "      <td>Four-Door Car</td>\n",
       "      <td>Large</td>\n",
       "    </tr>\n",
       "    <tr>\n",
       "      <th>9133</th>\n",
       "      <td>Y167826</td>\n",
       "      <td>California</td>\n",
       "      <td>2611.836866</td>\n",
       "      <td>No</td>\n",
       "      <td>Extended</td>\n",
       "      <td>College</td>\n",
       "      <td>2/14/11</td>\n",
       "      <td>Unemployed</td>\n",
       "      <td>M</td>\n",
       "      <td>0</td>\n",
       "      <td>...</td>\n",
       "      <td>90</td>\n",
       "      <td>0</td>\n",
       "      <td>1</td>\n",
       "      <td>Corporate Auto</td>\n",
       "      <td>Corporate L3</td>\n",
       "      <td>Offer4</td>\n",
       "      <td>Call Center</td>\n",
       "      <td>369.600000</td>\n",
       "      <td>Two-Door Car</td>\n",
       "      <td>Medsize</td>\n",
       "    </tr>\n",
       "  </tbody>\n",
       "</table>\n",
       "<p>9134 rows × 24 columns</p>\n",
       "</div>"
      ],
      "text/plain": [
       "     Customer       State  Customer Lifetime Value Response  Coverage  \\\n",
       "0     BU79786  Washington              2763.519279       No     Basic   \n",
       "1     QZ44356     Arizona              6979.535903       No  Extended   \n",
       "2     AI49188      Nevada             12887.431650       No   Premium   \n",
       "3     WW63253  California              7645.861827       No     Basic   \n",
       "4     HB64268  Washington              2813.692575       No     Basic   \n",
       "...       ...         ...                      ...      ...       ...   \n",
       "9129  LA72316  California             23405.987980       No     Basic   \n",
       "9130  PK87824  California              3096.511217      Yes  Extended   \n",
       "9131  TD14365  California              8163.890428       No  Extended   \n",
       "9132  UP19263  California              7524.442436       No  Extended   \n",
       "9133  Y167826  California              2611.836866       No  Extended   \n",
       "\n",
       "     Education Effective To Date EmploymentStatus Gender  Income  ...  \\\n",
       "0     Bachelor           2/24/11         Employed      F   56274  ...   \n",
       "1     Bachelor           1/31/11       Unemployed      F       0  ...   \n",
       "2     Bachelor           2/19/11         Employed      F   48767  ...   \n",
       "3     Bachelor           1/20/11       Unemployed      M       0  ...   \n",
       "4     Bachelor            2/3/11         Employed      M   43836  ...   \n",
       "...        ...               ...              ...    ...     ...  ...   \n",
       "9129  Bachelor           2/10/11         Employed      M   71941  ...   \n",
       "9130   College           2/12/11         Employed      F   21604  ...   \n",
       "9131  Bachelor            2/6/11       Unemployed      M       0  ...   \n",
       "9132   College            2/3/11         Employed      M   21941  ...   \n",
       "9133   College           2/14/11       Unemployed      M       0  ...   \n",
       "\n",
       "     Months Since Policy Inception Number of Open Complaints  \\\n",
       "0                                5                         0   \n",
       "1                               42                         0   \n",
       "2                               38                         0   \n",
       "3                               65                         0   \n",
       "4                               44                         0   \n",
       "...                            ...                       ...   \n",
       "9129                            89                         0   \n",
       "9130                            28                         0   \n",
       "9131                            37                         3   \n",
       "9132                             3                         0   \n",
       "9133                            90                         0   \n",
       "\n",
       "      Number of Policies     Policy Type        Policy  Renew Offer Type  \\\n",
       "0                      1  Corporate Auto  Corporate L3            Offer1   \n",
       "1                      8   Personal Auto   Personal L3            Offer3   \n",
       "2                      2   Personal Auto   Personal L3            Offer1   \n",
       "3                      7  Corporate Auto  Corporate L2            Offer1   \n",
       "4                      1   Personal Auto   Personal L1            Offer1   \n",
       "...                  ...             ...           ...               ...   \n",
       "9129                   2   Personal Auto   Personal L1            Offer2   \n",
       "9130                   1  Corporate Auto  Corporate L3            Offer1   \n",
       "9131                   2  Corporate Auto  Corporate L2            Offer1   \n",
       "9132                   3   Personal Auto   Personal L2            Offer3   \n",
       "9133                   1  Corporate Auto  Corporate L3            Offer4   \n",
       "\n",
       "      Sales Channel Total Claim Amount  Vehicle Class Vehicle Size  \n",
       "0             Agent         384.811147   Two-Door Car      Medsize  \n",
       "1             Agent        1131.464935  Four-Door Car      Medsize  \n",
       "2             Agent         566.472247   Two-Door Car      Medsize  \n",
       "3       Call Center         529.881344            SUV      Medsize  \n",
       "4             Agent         138.130879  Four-Door Car      Medsize  \n",
       "...             ...                ...            ...          ...  \n",
       "9129            Web         198.234764  Four-Door Car      Medsize  \n",
       "9130         Branch         379.200000  Four-Door Car      Medsize  \n",
       "9131         Branch         790.784983  Four-Door Car      Medsize  \n",
       "9132         Branch         691.200000  Four-Door Car        Large  \n",
       "9133    Call Center         369.600000   Two-Door Car      Medsize  \n",
       "\n",
       "[9134 rows x 24 columns]"
      ]
     },
     "execution_count": 3,
     "metadata": {},
     "output_type": "execute_result"
    }
   ],
   "source": [
    "data"
   ]
  },
  {
   "cell_type": "code",
   "execution_count": 4,
   "id": "b3338d80",
   "metadata": {},
   "outputs": [],
   "source": [
    "#Renaming the columns so they follow the PE8 (snake case).\n",
    "cols = []\n",
    "\n",
    "for i in range(len(data.columns)):\n",
    "    cols.append(data.columns[i].lower().replace(\" \",\"_\"))\n",
    "    \n",
    "data.columns = cols\n"
   ]
  },
  {
   "cell_type": "code",
   "execution_count": 5,
   "id": "b9b8d491",
   "metadata": {},
   "outputs": [
    {
     "data": {
      "text/html": [
       "<div>\n",
       "<style scoped>\n",
       "    .dataframe tbody tr th:only-of-type {\n",
       "        vertical-align: middle;\n",
       "    }\n",
       "\n",
       "    .dataframe tbody tr th {\n",
       "        vertical-align: top;\n",
       "    }\n",
       "\n",
       "    .dataframe thead th {\n",
       "        text-align: right;\n",
       "    }\n",
       "</style>\n",
       "<table border=\"1\" class=\"dataframe\">\n",
       "  <thead>\n",
       "    <tr style=\"text-align: right;\">\n",
       "      <th></th>\n",
       "      <th>customer_lifetime_value</th>\n",
       "      <th>income</th>\n",
       "      <th>monthly_premium_auto</th>\n",
       "      <th>months_since_last_claim</th>\n",
       "      <th>months_since_policy_inception</th>\n",
       "      <th>number_of_open_complaints</th>\n",
       "      <th>number_of_policies</th>\n",
       "      <th>total_claim_amount</th>\n",
       "    </tr>\n",
       "  </thead>\n",
       "  <tbody>\n",
       "    <tr>\n",
       "      <th>0</th>\n",
       "      <td>2763.519279</td>\n",
       "      <td>56274</td>\n",
       "      <td>69</td>\n",
       "      <td>32</td>\n",
       "      <td>5</td>\n",
       "      <td>0</td>\n",
       "      <td>1</td>\n",
       "      <td>384.811147</td>\n",
       "    </tr>\n",
       "    <tr>\n",
       "      <th>1</th>\n",
       "      <td>6979.535903</td>\n",
       "      <td>0</td>\n",
       "      <td>94</td>\n",
       "      <td>13</td>\n",
       "      <td>42</td>\n",
       "      <td>0</td>\n",
       "      <td>8</td>\n",
       "      <td>1131.464935</td>\n",
       "    </tr>\n",
       "    <tr>\n",
       "      <th>2</th>\n",
       "      <td>12887.431650</td>\n",
       "      <td>48767</td>\n",
       "      <td>108</td>\n",
       "      <td>18</td>\n",
       "      <td>38</td>\n",
       "      <td>0</td>\n",
       "      <td>2</td>\n",
       "      <td>566.472247</td>\n",
       "    </tr>\n",
       "    <tr>\n",
       "      <th>3</th>\n",
       "      <td>7645.861827</td>\n",
       "      <td>0</td>\n",
       "      <td>106</td>\n",
       "      <td>18</td>\n",
       "      <td>65</td>\n",
       "      <td>0</td>\n",
       "      <td>7</td>\n",
       "      <td>529.881344</td>\n",
       "    </tr>\n",
       "    <tr>\n",
       "      <th>4</th>\n",
       "      <td>2813.692575</td>\n",
       "      <td>43836</td>\n",
       "      <td>73</td>\n",
       "      <td>12</td>\n",
       "      <td>44</td>\n",
       "      <td>0</td>\n",
       "      <td>1</td>\n",
       "      <td>138.130879</td>\n",
       "    </tr>\n",
       "    <tr>\n",
       "      <th>...</th>\n",
       "      <td>...</td>\n",
       "      <td>...</td>\n",
       "      <td>...</td>\n",
       "      <td>...</td>\n",
       "      <td>...</td>\n",
       "      <td>...</td>\n",
       "      <td>...</td>\n",
       "      <td>...</td>\n",
       "    </tr>\n",
       "    <tr>\n",
       "      <th>9129</th>\n",
       "      <td>23405.987980</td>\n",
       "      <td>71941</td>\n",
       "      <td>73</td>\n",
       "      <td>18</td>\n",
       "      <td>89</td>\n",
       "      <td>0</td>\n",
       "      <td>2</td>\n",
       "      <td>198.234764</td>\n",
       "    </tr>\n",
       "    <tr>\n",
       "      <th>9130</th>\n",
       "      <td>3096.511217</td>\n",
       "      <td>21604</td>\n",
       "      <td>79</td>\n",
       "      <td>14</td>\n",
       "      <td>28</td>\n",
       "      <td>0</td>\n",
       "      <td>1</td>\n",
       "      <td>379.200000</td>\n",
       "    </tr>\n",
       "    <tr>\n",
       "      <th>9131</th>\n",
       "      <td>8163.890428</td>\n",
       "      <td>0</td>\n",
       "      <td>85</td>\n",
       "      <td>9</td>\n",
       "      <td>37</td>\n",
       "      <td>3</td>\n",
       "      <td>2</td>\n",
       "      <td>790.784983</td>\n",
       "    </tr>\n",
       "    <tr>\n",
       "      <th>9132</th>\n",
       "      <td>7524.442436</td>\n",
       "      <td>21941</td>\n",
       "      <td>96</td>\n",
       "      <td>34</td>\n",
       "      <td>3</td>\n",
       "      <td>0</td>\n",
       "      <td>3</td>\n",
       "      <td>691.200000</td>\n",
       "    </tr>\n",
       "    <tr>\n",
       "      <th>9133</th>\n",
       "      <td>2611.836866</td>\n",
       "      <td>0</td>\n",
       "      <td>77</td>\n",
       "      <td>3</td>\n",
       "      <td>90</td>\n",
       "      <td>0</td>\n",
       "      <td>1</td>\n",
       "      <td>369.600000</td>\n",
       "    </tr>\n",
       "  </tbody>\n",
       "</table>\n",
       "<p>9134 rows × 8 columns</p>\n",
       "</div>"
      ],
      "text/plain": [
       "      customer_lifetime_value  income  monthly_premium_auto  \\\n",
       "0                 2763.519279   56274                    69   \n",
       "1                 6979.535903       0                    94   \n",
       "2                12887.431650   48767                   108   \n",
       "3                 7645.861827       0                   106   \n",
       "4                 2813.692575   43836                    73   \n",
       "...                       ...     ...                   ...   \n",
       "9129             23405.987980   71941                    73   \n",
       "9130              3096.511217   21604                    79   \n",
       "9131              8163.890428       0                    85   \n",
       "9132              7524.442436   21941                    96   \n",
       "9133              2611.836866       0                    77   \n",
       "\n",
       "      months_since_last_claim  months_since_policy_inception  \\\n",
       "0                          32                              5   \n",
       "1                          13                             42   \n",
       "2                          18                             38   \n",
       "3                          18                             65   \n",
       "4                          12                             44   \n",
       "...                       ...                            ...   \n",
       "9129                       18                             89   \n",
       "9130                       14                             28   \n",
       "9131                        9                             37   \n",
       "9132                       34                              3   \n",
       "9133                        3                             90   \n",
       "\n",
       "      number_of_open_complaints  number_of_policies  total_claim_amount  \n",
       "0                             0                   1          384.811147  \n",
       "1                             0                   8         1131.464935  \n",
       "2                             0                   2          566.472247  \n",
       "3                             0                   7          529.881344  \n",
       "4                             0                   1          138.130879  \n",
       "...                         ...                 ...                 ...  \n",
       "9129                          0                   2          198.234764  \n",
       "9130                          0                   1          379.200000  \n",
       "9131                          3                   2          790.784983  \n",
       "9132                          0                   3          691.200000  \n",
       "9133                          0                   1          369.600000  \n",
       "\n",
       "[9134 rows x 8 columns]"
      ]
     },
     "execution_count": 5,
     "metadata": {},
     "output_type": "execute_result"
    }
   ],
   "source": [
    "#1.Get the numerical variables from our dataset.\n",
    "\n",
    "numerical = data.select_dtypes(include = np.number)\n",
    "numerical"
   ]
  },
  {
   "cell_type": "code",
   "execution_count": 6,
   "id": "13511341",
   "metadata": {},
   "outputs": [
    {
     "data": {
      "image/png": "[encoded data removed]",
      "text/plain": [
       "<Figure size 360x360 with 1 Axes>"
      ]
     },
     "metadata": {
      "needs_background": "light"
     },
     "output_type": "display_data"
    },
    {
     "data": {
      "image/png": "[encoded data removed]",
      "text/plain": [
       "<Figure size 360x360 with 1 Axes>"
      ]
     },
     "metadata": {
      "needs_background": "light"
     },
     "output_type": "display_data"
    },
    {
     "data": {
      "image/png": "[encoded data removed]",
      "text/plain": [
       "<Figure size 360x360 with 1 Axes>"
      ]
     },
     "metadata": {
      "needs_background": "light"
     },
     "output_type": "display_data"
    },
    {
     "data": {
      "image/png": "[encoded data removed]",
      "text/plain": [
       "<Figure size 360x360 with 1 Axes>"
      ]
     },
     "metadata": {
      "needs_background": "light"
     },
     "output_type": "display_data"
    },
    {
     "data": {
      "image/png": "[encoded data removed]",
      "text/plain": [
       "<Figure size 360x360 with 1 Axes>"
      ]
     },
     "metadata": {
      "needs_background": "light"
     },
     "output_type": "display_data"
    },
    {
     "data": {
      "image/png": "[encoded data removed]",
      "text/plain": [
       "<Figure size 360x360 with 1 Axes>"
      ]
     },
     "metadata": {
      "needs_background": "light"
     },
     "output_type": "display_data"
    },
    {
     "data": {
      "image/png": "[encoded data removed]",
      "text/plain": [
       "<Figure size 360x360 with 1 Axes>"
      ]
     },
     "metadata": {
      "needs_background": "light"
     },
     "output_type": "display_data"
    },
    {
     "data": {
      "image/png": "[encoded data removed]",
      "text/plain": [
       "<Figure size 360x360 with 1 Axes>"
      ]
     },
     "metadata": {
      "needs_background": "light"
     },
     "output_type": "display_data"
    }
   ],
   "source": [
    "#2.Check using a distribution plot if the variables fit the theoretical normal or exponential distribution.\n",
    "\n",
    "def plot_numerical(x):\n",
    "    for column in x:\n",
    "        (sns.displot(x[column]))\n",
    "        plt.show()\n",
    "plot_numerical(numerical)"
   ]
  },
  {
   "cell_type": "raw",
   "id": "ec672f52",
   "metadata": {},
   "source": [
    "As seen above some fall a bit more under a normal exponential distribution, and others not at all. The ones that are closer are in no way a perfect distribution and so some transformations will be applied in order to get the data closer to what would be a normal distribution."
   ]
  },
  {
   "cell_type": "code",
   "execution_count": 7,
   "id": "c91b145e",
   "metadata": {},
   "outputs": [],
   "source": [
    "#3.Check if any of the transformations (log-transform, etc.) we have seen up to this point changes the result.\n",
    "\n",
    "numerical01 = numerical.copy() #for boxcox\n",
    "numerical02 = numerical.copy() #for minmaxscaler\n",
    "numerical03 = numerical.copy() #for log-transform\n",
    "numerical04 = numerical.copy() #for square root transform\n"
   ]
  },
  {
   "cell_type": "code",
   "execution_count": 8,
   "id": "e6cd8537",
   "metadata": {},
   "outputs": [
    {
     "data": {
      "text/html": [
       "<div>\n",
       "<style scoped>\n",
       "    .dataframe tbody tr th:only-of-type {\n",
       "        vertical-align: middle;\n",
       "    }\n",
       "\n",
       "    .dataframe tbody tr th {\n",
       "        vertical-align: top;\n",
       "    }\n",
       "\n",
       "    .dataframe thead th {\n",
       "        text-align: right;\n",
       "    }\n",
       "</style>\n",
       "<table border=\"1\" class=\"dataframe\">\n",
       "  <thead>\n",
       "    <tr style=\"text-align: right;\">\n",
       "      <th></th>\n",
       "      <th>customer_lifetime_value</th>\n",
       "      <th>income</th>\n",
       "      <th>monthly_premium_auto</th>\n",
       "      <th>months_since_last_claim</th>\n",
       "      <th>months_since_policy_inception</th>\n",
       "      <th>number_of_open_complaints</th>\n",
       "      <th>number_of_policies</th>\n",
       "      <th>total_claim_amount</th>\n",
       "    </tr>\n",
       "  </thead>\n",
       "  <tbody>\n",
       "    <tr>\n",
       "      <th>0</th>\n",
       "      <td>2.703839</td>\n",
       "      <td>1247.937066</td>\n",
       "      <td>0.685347</td>\n",
       "      <td>10.876059</td>\n",
       "      <td>3.017887</td>\n",
       "      <td>0.648045</td>\n",
       "      <td>0.000000</td>\n",
       "      <td>33.035752</td>\n",
       "    </tr>\n",
       "    <tr>\n",
       "      <th>1</th>\n",
       "      <td>2.754926</td>\n",
       "      <td>1167.961720</td>\n",
       "      <td>0.685871</td>\n",
       "      <td>5.808248</td>\n",
       "      <td>18.780377</td>\n",
       "      <td>0.648045</td>\n",
       "      <td>1.424359</td>\n",
       "      <td>56.357614</td>\n",
       "    </tr>\n",
       "    <tr>\n",
       "      <th>2</th>\n",
       "      <td>2.780772</td>\n",
       "      <td>1144.063081</td>\n",
       "      <td>0.686039</td>\n",
       "      <td>7.347815</td>\n",
       "      <td>17.389171</td>\n",
       "      <td>0.648045</td>\n",
       "      <td>0.607328</td>\n",
       "      <td>40.071789</td>\n",
       "    </tr>\n",
       "    <tr>\n",
       "      <th>3</th>\n",
       "      <td>2.759125</td>\n",
       "      <td>1167.961720</td>\n",
       "      <td>0.686018</td>\n",
       "      <td>7.347815</td>\n",
       "      <td>26.160800</td>\n",
       "      <td>0.648045</td>\n",
       "      <td>1.363462</td>\n",
       "      <td>38.763252</td>\n",
       "    </tr>\n",
       "    <tr>\n",
       "      <th>4</th>\n",
       "      <td>2.704995</td>\n",
       "      <td>1072.375744</td>\n",
       "      <td>0.685461</td>\n",
       "      <td>5.471294</td>\n",
       "      <td>19.461641</td>\n",
       "      <td>0.648045</td>\n",
       "      <td>0.000000</td>\n",
       "      <td>19.560154</td>\n",
       "    </tr>\n",
       "    <tr>\n",
       "      <th>...</th>\n",
       "      <td>...</td>\n",
       "      <td>...</td>\n",
       "      <td>...</td>\n",
       "      <td>...</td>\n",
       "      <td>...</td>\n",
       "      <td>...</td>\n",
       "      <td>...</td>\n",
       "      <td>...</td>\n",
       "    </tr>\n",
       "    <tr>\n",
       "      <th>9129</th>\n",
       "      <td>2.801170</td>\n",
       "      <td>1448.531450</td>\n",
       "      <td>0.685461</td>\n",
       "      <td>7.347815</td>\n",
       "      <td>33.090025</td>\n",
       "      <td>0.648045</td>\n",
       "      <td>0.607328</td>\n",
       "      <td>23.588905</td>\n",
       "    </tr>\n",
       "    <tr>\n",
       "      <th>9130</th>\n",
       "      <td>2.711030</td>\n",
       "      <td>697.790558</td>\n",
       "      <td>0.685606</td>\n",
       "      <td>6.134207</td>\n",
       "      <td>13.709541</td>\n",
       "      <td>0.648045</td>\n",
       "      <td>0.000000</td>\n",
       "      <td>32.792951</td>\n",
       "    </tr>\n",
       "    <tr>\n",
       "      <th>9131</th>\n",
       "      <td>2.762062</td>\n",
       "      <td>1167.961720</td>\n",
       "      <td>0.685725</td>\n",
       "      <td>4.379465</td>\n",
       "      <td>17.034934</td>\n",
       "      <td>1.176115</td>\n",
       "      <td>0.607328</td>\n",
       "      <td>47.263726</td>\n",
       "    </tr>\n",
       "    <tr>\n",
       "      <th>9132</th>\n",
       "      <td>2.758397</td>\n",
       "      <td>704.383672</td>\n",
       "      <td>0.685898</td>\n",
       "      <td>11.319628</td>\n",
       "      <td>1.667871</td>\n",
       "      <td>0.648045</td>\n",
       "      <td>0.893486</td>\n",
       "      <td>44.225147</td>\n",
       "    </tr>\n",
       "    <tr>\n",
       "      <th>9133</th>\n",
       "      <td>2.700165</td>\n",
       "      <td>1167.961720</td>\n",
       "      <td>0.685560</td>\n",
       "      <td>1.526503</td>\n",
       "      <td>33.366155</td>\n",
       "      <td>0.648045</td>\n",
       "      <td>0.000000</td>\n",
       "      <td>32.373107</td>\n",
       "    </tr>\n",
       "  </tbody>\n",
       "</table>\n",
       "<p>9134 rows × 8 columns</p>\n",
       "</div>"
      ],
      "text/plain": [
       "      customer_lifetime_value       income  monthly_premium_auto  \\\n",
       "0                    2.703839  1247.937066              0.685347   \n",
       "1                    2.754926  1167.961720              0.685871   \n",
       "2                    2.780772  1144.063081              0.686039   \n",
       "3                    2.759125  1167.961720              0.686018   \n",
       "4                    2.704995  1072.375744              0.685461   \n",
       "...                       ...          ...                   ...   \n",
       "9129                 2.801170  1448.531450              0.685461   \n",
       "9130                 2.711030   697.790558              0.685606   \n",
       "9131                 2.762062  1167.961720              0.685725   \n",
       "9132                 2.758397   704.383672              0.685898   \n",
       "9133                 2.700165  1167.961720              0.685560   \n",
       "\n",
       "      months_since_last_claim  months_since_policy_inception  \\\n",
       "0                   10.876059                       3.017887   \n",
       "1                    5.808248                      18.780377   \n",
       "2                    7.347815                      17.389171   \n",
       "3                    7.347815                      26.160800   \n",
       "4                    5.471294                      19.461641   \n",
       "...                       ...                            ...   \n",
       "9129                 7.347815                      33.090025   \n",
       "9130                 6.134207                      13.709541   \n",
       "9131                 4.379465                      17.034934   \n",
       "9132                11.319628                       1.667871   \n",
       "9133                 1.526503                      33.366155   \n",
       "\n",
       "      number_of_open_complaints  number_of_policies  total_claim_amount  \n",
       "0                      0.648045            0.000000           33.035752  \n",
       "1                      0.648045            1.424359           56.357614  \n",
       "2                      0.648045            0.607328           40.071789  \n",
       "3                      0.648045            1.363462           38.763252  \n",
       "4                      0.648045            0.000000           19.560154  \n",
       "...                         ...                 ...                 ...  \n",
       "9129                   0.648045            0.607328           23.588905  \n",
       "9130                   0.648045            0.000000           32.792951  \n",
       "9131                   1.176115            0.607328           47.263726  \n",
       "9132                   0.648045            0.893486           44.225147  \n",
       "9133                   0.648045            0.000000           32.373107  \n",
       "\n",
       "[9134 rows x 8 columns]"
      ]
     },
     "execution_count": 8,
     "metadata": {},
     "output_type": "execute_result"
    }
   ],
   "source": [
    "#Using BoxCox\n",
    "\n",
    "def boxcox_transform(data):\n",
    "    numeric_cols = data.select_dtypes(np.number).columns #separate into numeric columns\n",
    "    _ci = {column: None for column in numeric_cols} #it will generate this dictionary\n",
    "    for column in numeric_cols:\n",
    "        # since i know any columns should take negative numbers, to avoid -inf in df\n",
    "        data[column] = np.where(data[column]<=0, np.NAN, data[column]) \n",
    "        data[column] = data[column].fillna(data[column].mean())\n",
    "        transformed_data, ci = stats.boxcox(data[column])\n",
    "        data[column] = transformed_data\n",
    "        _ci[column] = [ci] \n",
    "    return data, _ci\n",
    "\n",
    "numerical01, _ci = boxcox_transform(numerical01)\n",
    "numerical01"
   ]
  },
  {
   "cell_type": "code",
   "execution_count": 9,
   "id": "0f1c8a24",
   "metadata": {},
   "outputs": [
    {
     "data": {
      "image/png": "[encoded data removed]",
      "text/plain": [
       "<Figure size 360x360 with 1 Axes>"
      ]
     },
     "metadata": {
      "needs_background": "light"
     },
     "output_type": "display_data"
    },
    {
     "data": {
      "image/png": "[encoded data removed]",
      "text/plain": [
       "<Figure size 360x360 with 1 Axes>"
      ]
     },
     "metadata": {
      "needs_background": "light"
     },
     "output_type": "display_data"
    },
    {
     "data": {
      "image/png": "[encoded data removed]",
      "text/plain": [
       "<Figure size 360x360 with 1 Axes>"
      ]
     },
     "metadata": {
      "needs_background": "light"
     },
     "output_type": "display_data"
    },
    {
     "data": {
      "image/png": "[encoded data removed]",
      "text/plain": [
       "<Figure size 360x360 with 1 Axes>"
      ]
     },
     "metadata": {
      "needs_background": "light"
     },
     "output_type": "display_data"
    },
    {
     "data": {
      "image/png": "[encoded data removed]",
      "text/plain": [
       "<Figure size 360x360 with 1 Axes>"
      ]
     },
     "metadata": {
      "needs_background": "light"
     },
     "output_type": "display_data"
    },
    {
     "data": {
      "image/png": "[encoded data removed]",
      "text/plain": [
       "<Figure size 360x360 with 1 Axes>"
      ]
     },
     "metadata": {
      "needs_background": "light"
     },
     "output_type": "display_data"
    },
    {
     "data": {
      "image/png": "[encoded data removed]",
      "text/plain": [
       "<Figure size 360x360 with 1 Axes>"
      ]
     },
     "metadata": {
      "needs_background": "light"
     },
     "output_type": "display_data"
    },
    {
     "data": {
      "image/png": "[encoded data removed]",
      "text/plain": [
       "<Figure size 360x360 with 1 Axes>"
      ]
     },
     "metadata": {
      "needs_background": "light"
     },
     "output_type": "display_data"
    }
   ],
   "source": [
    "def plot_numerical(x):\n",
    "    for column in x:\n",
    "        (sns.displot(x[column]))\n",
    "        plt.show()\n",
    "plot_numerical(numerical01)"
   ]
  },
  {
   "cell_type": "code",
   "execution_count": 10,
   "id": "985231de",
   "metadata": {},
   "outputs": [
    {
     "data": {
      "text/html": [
       "<div>\n",
       "<style scoped>\n",
       "    .dataframe tbody tr th:only-of-type {\n",
       "        vertical-align: middle;\n",
       "    }\n",
       "\n",
       "    .dataframe tbody tr th {\n",
       "        vertical-align: top;\n",
       "    }\n",
       "\n",
       "    .dataframe thead th {\n",
       "        text-align: right;\n",
       "    }\n",
       "</style>\n",
       "<table border=\"1\" class=\"dataframe\">\n",
       "  <thead>\n",
       "    <tr style=\"text-align: right;\">\n",
       "      <th></th>\n",
       "      <th>customer_lifetime_value</th>\n",
       "      <th>income</th>\n",
       "      <th>monthly_premium_auto</th>\n",
       "      <th>months_since_last_claim</th>\n",
       "      <th>months_since_policy_inception</th>\n",
       "      <th>number_of_open_complaints</th>\n",
       "      <th>number_of_policies</th>\n",
       "      <th>total_claim_amount</th>\n",
       "    </tr>\n",
       "  </thead>\n",
       "  <tbody>\n",
       "    <tr>\n",
       "      <th>0</th>\n",
       "      <td>0.010629</td>\n",
       "      <td>0.562847</td>\n",
       "      <td>0.033755</td>\n",
       "      <td>0.914286</td>\n",
       "      <td>0.050505</td>\n",
       "      <td>0.0</td>\n",
       "      <td>0.000</td>\n",
       "      <td>0.132974</td>\n",
       "    </tr>\n",
       "    <tr>\n",
       "      <th>1</th>\n",
       "      <td>0.062406</td>\n",
       "      <td>0.000000</td>\n",
       "      <td>0.139241</td>\n",
       "      <td>0.371429</td>\n",
       "      <td>0.424242</td>\n",
       "      <td>0.0</td>\n",
       "      <td>0.875</td>\n",
       "      <td>0.391051</td>\n",
       "    </tr>\n",
       "    <tr>\n",
       "      <th>2</th>\n",
       "      <td>0.134960</td>\n",
       "      <td>0.487763</td>\n",
       "      <td>0.198312</td>\n",
       "      <td>0.514286</td>\n",
       "      <td>0.383838</td>\n",
       "      <td>0.0</td>\n",
       "      <td>0.125</td>\n",
       "      <td>0.195764</td>\n",
       "    </tr>\n",
       "    <tr>\n",
       "      <th>3</th>\n",
       "      <td>0.070589</td>\n",
       "      <td>0.000000</td>\n",
       "      <td>0.189873</td>\n",
       "      <td>0.514286</td>\n",
       "      <td>0.656566</td>\n",
       "      <td>0.0</td>\n",
       "      <td>0.750</td>\n",
       "      <td>0.183117</td>\n",
       "    </tr>\n",
       "    <tr>\n",
       "      <th>4</th>\n",
       "      <td>0.011245</td>\n",
       "      <td>0.438443</td>\n",
       "      <td>0.050633</td>\n",
       "      <td>0.342857</td>\n",
       "      <td>0.444444</td>\n",
       "      <td>0.0</td>\n",
       "      <td>0.000</td>\n",
       "      <td>0.047710</td>\n",
       "    </tr>\n",
       "    <tr>\n",
       "      <th>...</th>\n",
       "      <td>...</td>\n",
       "      <td>...</td>\n",
       "      <td>...</td>\n",
       "      <td>...</td>\n",
       "      <td>...</td>\n",
       "      <td>...</td>\n",
       "      <td>...</td>\n",
       "      <td>...</td>\n",
       "    </tr>\n",
       "    <tr>\n",
       "      <th>9129</th>\n",
       "      <td>0.264137</td>\n",
       "      <td>0.719547</td>\n",
       "      <td>0.050633</td>\n",
       "      <td>0.514286</td>\n",
       "      <td>0.898990</td>\n",
       "      <td>0.0</td>\n",
       "      <td>0.125</td>\n",
       "      <td>0.068485</td>\n",
       "    </tr>\n",
       "    <tr>\n",
       "      <th>9130</th>\n",
       "      <td>0.014719</td>\n",
       "      <td>0.216081</td>\n",
       "      <td>0.075949</td>\n",
       "      <td>0.400000</td>\n",
       "      <td>0.282828</td>\n",
       "      <td>0.0</td>\n",
       "      <td>0.000</td>\n",
       "      <td>0.131034</td>\n",
       "    </tr>\n",
       "    <tr>\n",
       "      <th>9131</th>\n",
       "      <td>0.076951</td>\n",
       "      <td>0.000000</td>\n",
       "      <td>0.101266</td>\n",
       "      <td>0.257143</td>\n",
       "      <td>0.373737</td>\n",
       "      <td>0.6</td>\n",
       "      <td>0.125</td>\n",
       "      <td>0.273297</td>\n",
       "    </tr>\n",
       "    <tr>\n",
       "      <th>9132</th>\n",
       "      <td>0.069098</td>\n",
       "      <td>0.219452</td>\n",
       "      <td>0.147679</td>\n",
       "      <td>0.971429</td>\n",
       "      <td>0.030303</td>\n",
       "      <td>0.0</td>\n",
       "      <td>0.250</td>\n",
       "      <td>0.238876</td>\n",
       "    </tr>\n",
       "    <tr>\n",
       "      <th>9133</th>\n",
       "      <td>0.008766</td>\n",
       "      <td>0.000000</td>\n",
       "      <td>0.067511</td>\n",
       "      <td>0.085714</td>\n",
       "      <td>0.909091</td>\n",
       "      <td>0.0</td>\n",
       "      <td>0.000</td>\n",
       "      <td>0.127716</td>\n",
       "    </tr>\n",
       "  </tbody>\n",
       "</table>\n",
       "<p>9134 rows × 8 columns</p>\n",
       "</div>"
      ],
      "text/plain": [
       "      customer_lifetime_value    income  monthly_premium_auto  \\\n",
       "0                    0.010629  0.562847              0.033755   \n",
       "1                    0.062406  0.000000              0.139241   \n",
       "2                    0.134960  0.487763              0.198312   \n",
       "3                    0.070589  0.000000              0.189873   \n",
       "4                    0.011245  0.438443              0.050633   \n",
       "...                       ...       ...                   ...   \n",
       "9129                 0.264137  0.719547              0.050633   \n",
       "9130                 0.014719  0.216081              0.075949   \n",
       "9131                 0.076951  0.000000              0.101266   \n",
       "9132                 0.069098  0.219452              0.147679   \n",
       "9133                 0.008766  0.000000              0.067511   \n",
       "\n",
       "      months_since_last_claim  months_since_policy_inception  \\\n",
       "0                    0.914286                       0.050505   \n",
       "1                    0.371429                       0.424242   \n",
       "2                    0.514286                       0.383838   \n",
       "3                    0.514286                       0.656566   \n",
       "4                    0.342857                       0.444444   \n",
       "...                       ...                            ...   \n",
       "9129                 0.514286                       0.898990   \n",
       "9130                 0.400000                       0.282828   \n",
       "9131                 0.257143                       0.373737   \n",
       "9132                 0.971429                       0.030303   \n",
       "9133                 0.085714                       0.909091   \n",
       "\n",
       "      number_of_open_complaints  number_of_policies  total_claim_amount  \n",
       "0                           0.0               0.000            0.132974  \n",
       "1                           0.0               0.875            0.391051  \n",
       "2                           0.0               0.125            0.195764  \n",
       "3                           0.0               0.750            0.183117  \n",
       "4                           0.0               0.000            0.047710  \n",
       "...                         ...                 ...                 ...  \n",
       "9129                        0.0               0.125            0.068485  \n",
       "9130                        0.0               0.000            0.131034  \n",
       "9131                        0.6               0.125            0.273297  \n",
       "9132                        0.0               0.250            0.238876  \n",
       "9133                        0.0               0.000            0.127716  \n",
       "\n",
       "[9134 rows x 8 columns]"
      ]
     },
     "execution_count": 10,
     "metadata": {},
     "output_type": "execute_result"
    }
   ],
   "source": [
    "#trying minmaxScaler\n",
    "scaler = MinMaxScaler()\n",
    "\n",
    "numerical02[['customer_lifetime_value', 'income','months_since_last_claim','months_since_policy_inception','number_of_open_complaints','number_of_policies','total_claim_amount','monthly_premium_auto']] = scaler.fit_transform(numerical02[['customer_lifetime_value', 'income','months_since_last_claim','months_since_policy_inception','number_of_open_complaints','number_of_policies','total_claim_amount','monthly_premium_auto']])\n",
    "\n",
    "numerical02"
   ]
  },
  {
   "cell_type": "code",
   "execution_count": 11,
   "id": "9ce94eb8",
   "metadata": {},
   "outputs": [
    {
     "data": {
      "image/png": "[encoded data removed]",
      "text/plain": [
       "<Figure size 360x360 with 1 Axes>"
      ]
     },
     "metadata": {
      "needs_background": "light"
     },
     "output_type": "display_data"
    },
    {
     "data": {
      "image/png": "[encoded data removed]",
      "text/plain": [
       "<Figure size 360x360 with 1 Axes>"
      ]
     },
     "metadata": {
      "needs_background": "light"
     },
     "output_type": "display_data"
    },
    {
     "data": {
      "image/png": "[encoded data removed]",
      "text/plain": [
       "<Figure size 360x360 with 1 Axes>"
      ]
     },
     "metadata": {
      "needs_background": "light"
     },
     "output_type": "display_data"
    },
    {
     "data": {
      "image/png": "[encoded data removed]",
      "text/plain": [
       "<Figure size 360x360 with 1 Axes>"
      ]
     },
     "metadata": {
      "needs_background": "light"
     },
     "output_type": "display_data"
    },
    {
     "data": {
      "image/png": "[encoded data removed]",
      "text/plain": [
       "<Figure size 360x360 with 1 Axes>"
      ]
     },
     "metadata": {
      "needs_background": "light"
     },
     "output_type": "display_data"
    },
    {
     "data": {
      "image/png": "[encoded data removed]",
      "text/plain": [
       "<Figure size 360x360 with 1 Axes>"
      ]
     },
     "metadata": {
      "needs_background": "light"
     },
     "output_type": "display_data"
    },
    {
     "data": {
      "image/png": "[encoded data removed]",
      "text/plain": [
       "<Figure size 360x360 with 1 Axes>"
      ]
     },
     "metadata": {
      "needs_background": "light"
     },
     "output_type": "display_data"
    },
    {
     "data": {
      "image/png": "[encoded data removed]",
      "text/plain": [
       "<Figure size 360x360 with 1 Axes>"
      ]
     },
     "metadata": {
      "needs_background": "light"
     },
     "output_type": "display_data"
    }
   ],
   "source": [
    "def plot_numerical(x):\n",
    "    for column in x:\n",
    "        (sns.displot(x[column]))\n",
    "        plt.show()\n",
    "plot_numerical(numerical02)"
   ]
  },
  {
   "cell_type": "code",
   "execution_count": 12,
   "id": "908848af",
   "metadata": {},
   "outputs": [
    {
     "data": {
      "text/html": [
       "<div>\n",
       "<style scoped>\n",
       "    .dataframe tbody tr th:only-of-type {\n",
       "        vertical-align: middle;\n",
       "    }\n",
       "\n",
       "    .dataframe tbody tr th {\n",
       "        vertical-align: top;\n",
       "    }\n",
       "\n",
       "    .dataframe thead th {\n",
       "        text-align: right;\n",
       "    }\n",
       "</style>\n",
       "<table border=\"1\" class=\"dataframe\">\n",
       "  <thead>\n",
       "    <tr style=\"text-align: right;\">\n",
       "      <th></th>\n",
       "      <th>customer_lifetime_value</th>\n",
       "      <th>income</th>\n",
       "      <th>monthly_premium_auto</th>\n",
       "      <th>months_since_last_claim</th>\n",
       "      <th>months_since_policy_inception</th>\n",
       "      <th>number_of_open_complaints</th>\n",
       "      <th>number_of_policies</th>\n",
       "      <th>total_claim_amount</th>\n",
       "    </tr>\n",
       "  </thead>\n",
       "  <tbody>\n",
       "    <tr>\n",
       "      <th>0</th>\n",
       "      <td>7.924260</td>\n",
       "      <td>10.937988</td>\n",
       "      <td>4.234107</td>\n",
       "      <td>3.465736</td>\n",
       "      <td>1.609438</td>\n",
       "      <td>-inf</td>\n",
       "      <td>0.000000</td>\n",
       "      <td>5.952753</td>\n",
       "    </tr>\n",
       "    <tr>\n",
       "      <th>1</th>\n",
       "      <td>8.850738</td>\n",
       "      <td>-inf</td>\n",
       "      <td>4.543295</td>\n",
       "      <td>2.564949</td>\n",
       "      <td>3.737670</td>\n",
       "      <td>-inf</td>\n",
       "      <td>2.079442</td>\n",
       "      <td>7.031268</td>\n",
       "    </tr>\n",
       "    <tr>\n",
       "      <th>2</th>\n",
       "      <td>9.464008</td>\n",
       "      <td>10.794809</td>\n",
       "      <td>4.682131</td>\n",
       "      <td>2.890372</td>\n",
       "      <td>3.637586</td>\n",
       "      <td>-inf</td>\n",
       "      <td>0.693147</td>\n",
       "      <td>6.339428</td>\n",
       "    </tr>\n",
       "    <tr>\n",
       "      <th>3</th>\n",
       "      <td>8.941920</td>\n",
       "      <td>-inf</td>\n",
       "      <td>4.663439</td>\n",
       "      <td>2.890372</td>\n",
       "      <td>4.174387</td>\n",
       "      <td>-inf</td>\n",
       "      <td>1.945910</td>\n",
       "      <td>6.272653</td>\n",
       "    </tr>\n",
       "    <tr>\n",
       "      <th>4</th>\n",
       "      <td>7.942253</td>\n",
       "      <td>10.688211</td>\n",
       "      <td>4.290459</td>\n",
       "      <td>2.484907</td>\n",
       "      <td>3.784190</td>\n",
       "      <td>-inf</td>\n",
       "      <td>0.000000</td>\n",
       "      <td>4.928202</td>\n",
       "    </tr>\n",
       "    <tr>\n",
       "      <th>...</th>\n",
       "      <td>...</td>\n",
       "      <td>...</td>\n",
       "      <td>...</td>\n",
       "      <td>...</td>\n",
       "      <td>...</td>\n",
       "      <td>...</td>\n",
       "      <td>...</td>\n",
       "      <td>...</td>\n",
       "    </tr>\n",
       "    <tr>\n",
       "      <th>9129</th>\n",
       "      <td>10.060747</td>\n",
       "      <td>11.183602</td>\n",
       "      <td>4.290459</td>\n",
       "      <td>2.890372</td>\n",
       "      <td>4.488636</td>\n",
       "      <td>-inf</td>\n",
       "      <td>0.693147</td>\n",
       "      <td>5.289452</td>\n",
       "    </tr>\n",
       "    <tr>\n",
       "      <th>9130</th>\n",
       "      <td>8.038031</td>\n",
       "      <td>9.980634</td>\n",
       "      <td>4.369448</td>\n",
       "      <td>2.639057</td>\n",
       "      <td>3.332205</td>\n",
       "      <td>-inf</td>\n",
       "      <td>0.000000</td>\n",
       "      <td>5.938064</td>\n",
       "    </tr>\n",
       "    <tr>\n",
       "      <th>9131</th>\n",
       "      <td>9.007476</td>\n",
       "      <td>-inf</td>\n",
       "      <td>4.442651</td>\n",
       "      <td>2.197225</td>\n",
       "      <td>3.610918</td>\n",
       "      <td>1.098612</td>\n",
       "      <td>0.693147</td>\n",
       "      <td>6.673026</td>\n",
       "    </tr>\n",
       "    <tr>\n",
       "      <th>9132</th>\n",
       "      <td>8.925912</td>\n",
       "      <td>9.996112</td>\n",
       "      <td>4.564348</td>\n",
       "      <td>3.526361</td>\n",
       "      <td>1.098612</td>\n",
       "      <td>-inf</td>\n",
       "      <td>1.098612</td>\n",
       "      <td>6.538429</td>\n",
       "    </tr>\n",
       "    <tr>\n",
       "      <th>9133</th>\n",
       "      <td>7.867809</td>\n",
       "      <td>-inf</td>\n",
       "      <td>4.343805</td>\n",
       "      <td>1.098612</td>\n",
       "      <td>4.499810</td>\n",
       "      <td>-inf</td>\n",
       "      <td>0.000000</td>\n",
       "      <td>5.912421</td>\n",
       "    </tr>\n",
       "  </tbody>\n",
       "</table>\n",
       "<p>9134 rows × 8 columns</p>\n",
       "</div>"
      ],
      "text/plain": [
       "      customer_lifetime_value     income  monthly_premium_auto  \\\n",
       "0                    7.924260  10.937988              4.234107   \n",
       "1                    8.850738       -inf              4.543295   \n",
       "2                    9.464008  10.794809              4.682131   \n",
       "3                    8.941920       -inf              4.663439   \n",
       "4                    7.942253  10.688211              4.290459   \n",
       "...                       ...        ...                   ...   \n",
       "9129                10.060747  11.183602              4.290459   \n",
       "9130                 8.038031   9.980634              4.369448   \n",
       "9131                 9.007476       -inf              4.442651   \n",
       "9132                 8.925912   9.996112              4.564348   \n",
       "9133                 7.867809       -inf              4.343805   \n",
       "\n",
       "      months_since_last_claim  months_since_policy_inception  \\\n",
       "0                    3.465736                       1.609438   \n",
       "1                    2.564949                       3.737670   \n",
       "2                    2.890372                       3.637586   \n",
       "3                    2.890372                       4.174387   \n",
       "4                    2.484907                       3.784190   \n",
       "...                       ...                            ...   \n",
       "9129                 2.890372                       4.488636   \n",
       "9130                 2.639057                       3.332205   \n",
       "9131                 2.197225                       3.610918   \n",
       "9132                 3.526361                       1.098612   \n",
       "9133                 1.098612                       4.499810   \n",
       "\n",
       "      number_of_open_complaints  number_of_policies  total_claim_amount  \n",
       "0                          -inf            0.000000            5.952753  \n",
       "1                          -inf            2.079442            7.031268  \n",
       "2                          -inf            0.693147            6.339428  \n",
       "3                          -inf            1.945910            6.272653  \n",
       "4                          -inf            0.000000            4.928202  \n",
       "...                         ...                 ...                 ...  \n",
       "9129                       -inf            0.693147            5.289452  \n",
       "9130                       -inf            0.000000            5.938064  \n",
       "9131                   1.098612            0.693147            6.673026  \n",
       "9132                       -inf            1.098612            6.538429  \n",
       "9133                       -inf            0.000000            5.912421  \n",
       "\n",
       "[9134 rows x 8 columns]"
      ]
     },
     "execution_count": 12,
     "metadata": {},
     "output_type": "execute_result"
    }
   ],
   "source": [
    "#Log transform\n",
    "\n",
    "#create log-transformed data\n",
    "data_log = np.log(numerical03)\n",
    "data_log"
   ]
  },
  {
   "cell_type": "code",
   "execution_count": 13,
   "id": "7ce2f809",
   "metadata": {},
   "outputs": [
    {
     "data": {
      "image/png": "[encoded data removed]",
      "text/plain": [
       "<Figure size 360x360 with 1 Axes>"
      ]
     },
     "metadata": {
      "needs_background": "light"
     },
     "output_type": "display_data"
    },
    {
     "data": {
      "image/png": "[encoded data removed]",
      "text/plain": [
       "<Figure size 360x360 with 1 Axes>"
      ]
     },
     "metadata": {
      "needs_background": "light"
     },
     "output_type": "display_data"
    },
    {
     "data": {
      "image/png": "[encoded data removed]",
      "text/plain": [
       "<Figure size 360x360 with 1 Axes>"
      ]
     },
     "metadata": {
      "needs_background": "light"
     },
     "output_type": "display_data"
    },
    {
     "data": {
      "image/png": "[encoded data removed]",
      "text/plain": [
       "<Figure size 360x360 with 1 Axes>"
      ]
     },
     "metadata": {
      "needs_background": "light"
     },
     "output_type": "display_data"
    },
    {
     "data": {
      "image/png": "[encoded data removed]",
      "text/plain": [
       "<Figure size 360x360 with 1 Axes>"
      ]
     },
     "metadata": {
      "needs_background": "light"
     },
     "output_type": "display_data"
    },
    {
     "data": {
      "image/png": "[encoded data removed]",
      "text/plain": [
       "<Figure size 360x360 with 1 Axes>"
      ]
     },
     "metadata": {
      "needs_background": "light"
     },
     "output_type": "display_data"
    },
    {
     "data": {
      "image/png": "[encoded data removed]",
      "text/plain": [
       "<Figure size 360x360 with 1 Axes>"
      ]
     },
     "metadata": {
      "needs_background": "light"
     },
     "output_type": "display_data"
    },
    {
     "data": {
      "image/png": "[encoded data removed]",
      "text/plain": [
       "<Figure size 360x360 with 1 Axes>"
      ]
     },
     "metadata": {
      "needs_background": "light"
     },
     "output_type": "display_data"
    }
   ],
   "source": [
    "def plot_numerical(x):\n",
    "    for column in x:\n",
    "        (sns.displot(x[column]))\n",
    "        plt.show()\n",
    "plot_numerical(numerical03)"
   ]
  },
  {
   "cell_type": "code",
   "execution_count": 14,
   "id": "2e8aab63",
   "metadata": {},
   "outputs": [
    {
     "data": {
      "text/html": [
       "<div>\n",
       "<style scoped>\n",
       "    .dataframe tbody tr th:only-of-type {\n",
       "        vertical-align: middle;\n",
       "    }\n",
       "\n",
       "    .dataframe tbody tr th {\n",
       "        vertical-align: top;\n",
       "    }\n",
       "\n",
       "    .dataframe thead th {\n",
       "        text-align: right;\n",
       "    }\n",
       "</style>\n",
       "<table border=\"1\" class=\"dataframe\">\n",
       "  <thead>\n",
       "    <tr style=\"text-align: right;\">\n",
       "      <th></th>\n",
       "      <th>customer_lifetime_value</th>\n",
       "      <th>income</th>\n",
       "      <th>monthly_premium_auto</th>\n",
       "      <th>months_since_last_claim</th>\n",
       "      <th>months_since_policy_inception</th>\n",
       "      <th>number_of_open_complaints</th>\n",
       "      <th>number_of_policies</th>\n",
       "      <th>total_claim_amount</th>\n",
       "    </tr>\n",
       "  </thead>\n",
       "  <tbody>\n",
       "    <tr>\n",
       "      <th>0</th>\n",
       "      <td>52.569186</td>\n",
       "      <td>237.221416</td>\n",
       "      <td>8.306624</td>\n",
       "      <td>5.656854</td>\n",
       "      <td>2.236068</td>\n",
       "      <td>0.000000</td>\n",
       "      <td>1.000000</td>\n",
       "      <td>19.616604</td>\n",
       "    </tr>\n",
       "    <tr>\n",
       "      <th>1</th>\n",
       "      <td>83.543617</td>\n",
       "      <td>0.000000</td>\n",
       "      <td>9.695360</td>\n",
       "      <td>3.605551</td>\n",
       "      <td>6.480741</td>\n",
       "      <td>0.000000</td>\n",
       "      <td>2.828427</td>\n",
       "      <td>33.637255</td>\n",
       "    </tr>\n",
       "    <tr>\n",
       "      <th>2</th>\n",
       "      <td>113.522824</td>\n",
       "      <td>220.832516</td>\n",
       "      <td>10.392305</td>\n",
       "      <td>4.242641</td>\n",
       "      <td>6.164414</td>\n",
       "      <td>0.000000</td>\n",
       "      <td>1.414214</td>\n",
       "      <td>23.800677</td>\n",
       "    </tr>\n",
       "    <tr>\n",
       "      <th>3</th>\n",
       "      <td>87.440619</td>\n",
       "      <td>0.000000</td>\n",
       "      <td>10.295630</td>\n",
       "      <td>4.242641</td>\n",
       "      <td>8.062258</td>\n",
       "      <td>0.000000</td>\n",
       "      <td>2.645751</td>\n",
       "      <td>23.019152</td>\n",
       "    </tr>\n",
       "    <tr>\n",
       "      <th>4</th>\n",
       "      <td>53.044251</td>\n",
       "      <td>209.370485</td>\n",
       "      <td>8.544004</td>\n",
       "      <td>3.464102</td>\n",
       "      <td>6.633250</td>\n",
       "      <td>0.000000</td>\n",
       "      <td>1.000000</td>\n",
       "      <td>11.752909</td>\n",
       "    </tr>\n",
       "    <tr>\n",
       "      <th>...</th>\n",
       "      <td>...</td>\n",
       "      <td>...</td>\n",
       "      <td>...</td>\n",
       "      <td>...</td>\n",
       "      <td>...</td>\n",
       "      <td>...</td>\n",
       "      <td>...</td>\n",
       "      <td>...</td>\n",
       "    </tr>\n",
       "    <tr>\n",
       "      <th>9129</th>\n",
       "      <td>152.990156</td>\n",
       "      <td>268.218195</td>\n",
       "      <td>8.544004</td>\n",
       "      <td>4.242641</td>\n",
       "      <td>9.433981</td>\n",
       "      <td>0.000000</td>\n",
       "      <td>1.414214</td>\n",
       "      <td>14.079587</td>\n",
       "    </tr>\n",
       "    <tr>\n",
       "      <th>9130</th>\n",
       "      <td>55.646305</td>\n",
       "      <td>146.982992</td>\n",
       "      <td>8.888194</td>\n",
       "      <td>3.741657</td>\n",
       "      <td>5.291503</td>\n",
       "      <td>0.000000</td>\n",
       "      <td>1.000000</td>\n",
       "      <td>19.473058</td>\n",
       "    </tr>\n",
       "    <tr>\n",
       "      <th>9131</th>\n",
       "      <td>90.354250</td>\n",
       "      <td>0.000000</td>\n",
       "      <td>9.219544</td>\n",
       "      <td>3.000000</td>\n",
       "      <td>6.082763</td>\n",
       "      <td>1.732051</td>\n",
       "      <td>1.414214</td>\n",
       "      <td>28.120899</td>\n",
       "    </tr>\n",
       "    <tr>\n",
       "      <th>9132</th>\n",
       "      <td>86.743544</td>\n",
       "      <td>148.124947</td>\n",
       "      <td>9.797959</td>\n",
       "      <td>5.830952</td>\n",
       "      <td>1.732051</td>\n",
       "      <td>0.000000</td>\n",
       "      <td>1.732051</td>\n",
       "      <td>26.290683</td>\n",
       "    </tr>\n",
       "    <tr>\n",
       "      <th>9133</th>\n",
       "      <td>51.106133</td>\n",
       "      <td>0.000000</td>\n",
       "      <td>8.774964</td>\n",
       "      <td>1.732051</td>\n",
       "      <td>9.486833</td>\n",
       "      <td>0.000000</td>\n",
       "      <td>1.000000</td>\n",
       "      <td>19.224984</td>\n",
       "    </tr>\n",
       "  </tbody>\n",
       "</table>\n",
       "<p>9134 rows × 8 columns</p>\n",
       "</div>"
      ],
      "text/plain": [
       "      customer_lifetime_value      income  monthly_premium_auto  \\\n",
       "0                   52.569186  237.221416              8.306624   \n",
       "1                   83.543617    0.000000              9.695360   \n",
       "2                  113.522824  220.832516             10.392305   \n",
       "3                   87.440619    0.000000             10.295630   \n",
       "4                   53.044251  209.370485              8.544004   \n",
       "...                       ...         ...                   ...   \n",
       "9129               152.990156  268.218195              8.544004   \n",
       "9130                55.646305  146.982992              8.888194   \n",
       "9131                90.354250    0.000000              9.219544   \n",
       "9132                86.743544  148.124947              9.797959   \n",
       "9133                51.106133    0.000000              8.774964   \n",
       "\n",
       "      months_since_last_claim  months_since_policy_inception  \\\n",
       "0                    5.656854                       2.236068   \n",
       "1                    3.605551                       6.480741   \n",
       "2                    4.242641                       6.164414   \n",
       "3                    4.242641                       8.062258   \n",
       "4                    3.464102                       6.633250   \n",
       "...                       ...                            ...   \n",
       "9129                 4.242641                       9.433981   \n",
       "9130                 3.741657                       5.291503   \n",
       "9131                 3.000000                       6.082763   \n",
       "9132                 5.830952                       1.732051   \n",
       "9133                 1.732051                       9.486833   \n",
       "\n",
       "      number_of_open_complaints  number_of_policies  total_claim_amount  \n",
       "0                      0.000000            1.000000           19.616604  \n",
       "1                      0.000000            2.828427           33.637255  \n",
       "2                      0.000000            1.414214           23.800677  \n",
       "3                      0.000000            2.645751           23.019152  \n",
       "4                      0.000000            1.000000           11.752909  \n",
       "...                         ...                 ...                 ...  \n",
       "9129                   0.000000            1.414214           14.079587  \n",
       "9130                   0.000000            1.000000           19.473058  \n",
       "9131                   1.732051            1.414214           28.120899  \n",
       "9132                   0.000000            1.732051           26.290683  \n",
       "9133                   0.000000            1.000000           19.224984  \n",
       "\n",
       "[9134 rows x 8 columns]"
      ]
     },
     "execution_count": 14,
     "metadata": {},
     "output_type": "execute_result"
    }
   ],
   "source": [
    "#Square root transform\n",
    "\n",
    "numerical04 = np.sqrt(numerical04)\n",
    "numerical04"
   ]
  },
  {
   "cell_type": "code",
   "execution_count": 15,
   "id": "39343704",
   "metadata": {},
   "outputs": [
    {
     "data": {
      "image/png": "[encoded data removed]",
      "text/plain": [
       "<Figure size 360x360 with 1 Axes>"
      ]
     },
     "metadata": {
      "needs_background": "light"
     },
     "output_type": "display_data"
    },
    {
     "data": {
      "image/png": "[encoded data removed]",
      "text/plain": [
       "<Figure size 360x360 with 1 Axes>"
      ]
     },
     "metadata": {
      "needs_background": "light"
     },
     "output_type": "display_data"
    },
    {
     "data": {
      "image/png": "[encoded data removed]",
      "text/plain": [
       "<Figure size 360x360 with 1 Axes>"
      ]
     },
     "metadata": {
      "needs_background": "light"
     },
     "output_type": "display_data"
    },
    {
     "data": {
      "image/png": "[encoded data removed]",
      "text/plain": [
       "<Figure size 360x360 with 1 Axes>"
      ]
     },
     "metadata": {
      "needs_background": "light"
     },
     "output_type": "display_data"
    },
    {
     "data": {
      "image/png": "[encoded data removed]",
      "text/plain": [
       "<Figure size 360x360 with 1 Axes>"
      ]
     },
     "metadata": {
      "needs_background": "light"
     },
     "output_type": "display_data"
    },
    {
     "data": {
      "image/png": "[encoded data removed]",
      "text/plain": [
       "<Figure size 360x360 with 1 Axes>"
      ]
     },
     "metadata": {
      "needs_background": "light"
     },
     "output_type": "display_data"
    },
    {
     "data": {
      "image/png": "[encoded data removed]",
      "text/plain": [
       "<Figure size 360x360 with 1 Axes>"
      ]
     },
     "metadata": {
      "needs_background": "light"
     },
     "output_type": "display_data"
    },
    {
     "data": {
      "image/png": "[encoded data removed]",
      "text/plain": [
       "<Figure size 360x360 with 1 Axes>"
      ]
     },
     "metadata": {
      "needs_background": "light"
     },
     "output_type": "display_data"
    }
   ],
   "source": [
    "def plot_numerical(x):\n",
    "    for column in x:\n",
    "        (sns.displot(x[column]))\n",
    "        plt.show()\n",
    "plot_numerical(numerical04)"
   ]
  },
  {
   "cell_type": "raw",
   "id": "da7f8a66",
   "metadata": {},
   "source": [
    "From all the transformations above tried, the one i feel is the best one in terms of transforming the overall data into a more perfect normal distribution is the Square root transformation, with boxcox transformation coming close but not quite."
   ]
  },
  {
   "cell_type": "code",
   "execution_count": null,
   "id": "53a423b0",
   "metadata": {},
   "outputs": [],
   "source": []
  }
 ],
 "metadata": {
  "kernelspec": {
   "display_name": "Python 3 (ipykernel)",
   "language": "python",
   "name": "python3"
  },
  "language_info": {
   "codemirror_mode": {
    "name": "ipython",
    "version": 3
   },
   "file_extension": ".py",
   "mimetype": "text/x-python",
   "name": "python",
   "nbconvert_exporter": "python",
   "pygments_lexer": "ipython3",
   "version": "3.9.7"
  }
 },
 "nbformat": 4,
 "nbformat_minor": 5
}
